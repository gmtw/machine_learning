{
 "cells": [
  {
   "cell_type": "markdown",
   "metadata": {},
   "source": [
    "# Algoritmo Adaline"
   ]
  },
  {
   "cell_type": "code",
   "execution_count": 1,
   "metadata": {
    "collapsed": true
   },
   "outputs": [],
   "source": [
    "import numpy as np\n",
    "import pandas as pd\n",
    "import matplotlib.pyplot as plt"
   ]
  },
  {
   "cell_type": "code",
   "execution_count": null,
   "metadata": {
    "collapsed": true
   },
   "outputs": [],
   "source": [
    "class AdalineGD(object):\n",
    "    #ADAptive LInear NEuron classifier\n",
    "    #Parametros\n",
    "    #-------------------------\n",
    "    #eta: número flotante\n",
    "        #Taza de aprendizaje\n",
    "    \n",
    "    #n_iter: número tipo entero\n",
    "        #pasos sobre el conjunto de entrenamiento\n",
    "        \n",
    "    #Atributos\n",
    "    #w_: arreglo 1D\n",
    "        #Pesos depués de ajustar\n",
    "    #errors_: lista\n",
    "    #número de clasificaciones erroneas por cada paso\n",
    "    \n",
    "    def __init__(self, eta=0.01, n_iter=50):\n",
    "        self.eta=eta\n",
    "        self.n_iter=n_iter\n",
    "        \n",
    "    def fit(self,X,y):\n",
    "        #Ajuste de datos de entrenamiento\n",
    "        \n",
    "        #Parámetros\n",
    "        \n",
    "        #X:{Arreglo}, forma=[n_samples,n_features]\n",
    "        #vectores de entrenamiento\n",
    "        #n_features: numero de caracteristicas\n",
    "        #n_samples: numero de muestras\n",
    "        \n",
    "        #y={arreglo}, forma=[n_samples]\n",
    "        \n",
    "        #returns\n",
    "        #self: object\n",
    "        \n",
    "        self.w_=np.zeros(1+X.shape[1])\n",
    "        self.cost_=[]\n",
    "        for i in range (self.n_iter):\n",
    "            output=self.net_input(X)\n",
    "            errors=(y-output)\n",
    "            self.w_[1:] +=self.eta*X.T.dot(errors)\n",
    "            self.W[0] += self.eta*errors.sum()\n",
    "            \n",
    "        \n",
    "        "
   ]
  }
 ],
 "metadata": {
  "kernelspec": {
   "display_name": "Python 3",
   "language": "python",
   "name": "python3"
  },
  "language_info": {
   "codemirror_mode": {
    "name": "ipython",
    "version": 3
   },
   "file_extension": ".py",
   "mimetype": "text/x-python",
   "name": "python",
   "nbconvert_exporter": "python",
   "pygments_lexer": "ipython3",
   "version": "3.6.0"
  }
 },
 "nbformat": 4,
 "nbformat_minor": 2
}
