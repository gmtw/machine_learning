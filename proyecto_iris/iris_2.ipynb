{
 "cells": [
  {
   "cell_type": "code",
   "execution_count": 3,
   "metadata": {
    "collapsed": false
   },
   "outputs": [],
   "source": [
    "import pandas as pd"
   ]
  },
  {
   "cell_type": "code",
   "execution_count": 4,
   "metadata": {
    "collapsed": true
   },
   "outputs": [],
   "source": [
    "import numpy as np\n",
    "import matplotlib.pyplot as plt"
   ]
  },
  {
   "cell_type": "code",
   "execution_count": 5,
   "metadata": {
    "collapsed": true
   },
   "outputs": [],
   "source": [
    "df=pd.read_csv(\"/home/julio/Escritorio/iris.data\",header=None)"
   ]
  },
  {
   "cell_type": "code",
   "execution_count": 6,
   "metadata": {
    "collapsed": true
   },
   "outputs": [],
   "source": [
    "y=df.iloc[0:100,4].values"
   ]
  },
  {
   "cell_type": "code",
   "execution_count": 7,
   "metadata": {
    "collapsed": false
   },
   "outputs": [],
   "source": [
    "y=np.where(y==\"Iris-setosa\",0,1)"
   ]
  },
  {
   "cell_type": "code",
   "execution_count": 8,
   "metadata": {
    "collapsed": false
   },
   "outputs": [
    {
     "name": "stdout",
     "output_type": "stream",
     "text": [
      "<class 'numpy.ndarray'>\n",
      "[ 0.  0.]\n"
     ]
    }
   ],
   "source": [
    "X=df.iloc[0:100,[0,2]].values\n",
    "print(type(X))\n",
    "type((array([0,0,1]), 0))\n",
    "#tuple(zip(X,y))\n",
    "a=np.zeros(2)\n",
    "print(a)"
   ]
  },
  {
   "cell_type": "code",
   "execution_count": 15,
   "metadata": {
    "collapsed": false
   },
   "outputs": [],
   "source": [
    "from random import choice\n",
    "from numpy import array, dot, random\n",
    "\n",
    "def perceptron():\n",
    "    unit_step = lambda x: 0 if x < 0 else 1\n",
    "\n",
    "    #training_data = [\n",
    "    #    (array([0,0,1]), 0),\n",
    "    #    (array([0,1,1]), 1),\n",
    "    #    (array([1,0,1]), 1),\n",
    "    #    (array([1,1,1]), 1),\n",
    "    #]\n",
    "    training_data= tuple(zip(X,y))\n",
    "\n",
    "    w = random.rand(2)\n",
    "    #w=np.zeros(2)\n",
    "    errors = []\n",
    "    eta = 0.1\n",
    "    n = 100\n",
    "\n",
    "    for i in range(n):\n",
    "        x, expected = choice(training_data)\n",
    "        result = dot(w, x)\n",
    "        error = expected - unit_step(result)\n",
    "        errors.append(error)\n",
    "        w += eta * error * x\n",
    "        #print (w,x)\n",
    "    for x, _ in training_data:\n",
    "        result = dot(x, w)\n",
    "        #print(\"{}: {} -> {}\".format(x[:2], result, unit_step(result)))"
   ]
  },
  {
   "cell_type": "code",
   "execution_count": 16,
   "metadata": {
    "collapsed": false
   },
   "outputs": [],
   "source": [
    "perceptron()"
   ]
  },
  {
   "cell_type": "code",
   "execution_count": 103,
   "metadata": {
    "collapsed": false
   },
   "outputs": [
    {
     "data": {
      "text/plain": [
       "[<matplotlib.lines.Line2D at 0x7f0cd5410a20>]"
      ]
     },
     "execution_count": 103,
     "metadata": {},
     "output_type": "execute_result"
    }
   ],
   "source": [
    "plt.plot(range(1, len(errors)+1), errors, marker=\"o\")"
   ]
  },
  {
   "cell_type": "code",
   "execution_count": 104,
   "metadata": {
    "collapsed": false
   },
   "outputs": [
    {
     "data": {
      "image/png": "[encoded data removed]",
      "text/plain": [
       "<matplotlib.figure.Figure at 0x7f0cd54abd68>"
      ]
     },
     "metadata": {},
     "output_type": "display_data"
    }
   ],
   "source": [
    "plt.show()\n"
   ]
  },
  {
   "cell_type": "code",
   "execution_count": 95,
   "metadata": {
    "collapsed": true
   },
   "outputs": [],
   "source": [
    "from matplotlib.colors import ListedColormap\n",
    "def plot_decision_regions(X,y,classifier,resolution=0.02):\n",
    "    markers = ('s','x','o','^','v')\n",
    "    colors=('red','blue','lightgreen','gray','cyan')\n",
    "    cmap=ListedColormap(colors[:len(np.unique(y))])\n",
    "    \n",
    "    x1_min,x1_max = X[:,0].min()-1, X[:,0].max() + 1\n",
    "    x2_min,x2_max = X[:,1].min()-1, X[:,1].max() + 1\n",
    "    xx1, xx2 = np.meshgrid(np.arange(x1_min, x1_max, resolution),np.arange(x2_min,x2_max, resolution))\n",
    "    \n",
    "    Z=classifier.predict(np.array([xx1.ravel(),xx2.ravel()]).T)\n",
    "    Z=Z.reshape(xx1.shape)\n",
    "    \n",
    "    plt.contourf(xx1,xx2,Z,alpha = 0.4,cmap=cmap)\n",
    "    plt.xlim(xx1.min(), xx1.max())\n",
    "    plt.ylim(xx2.min(), xx2.max())\n",
    "    \n",
    "    for idx,cl in enumerate(np.unique(y)):\n",
    "        plt.scatter(x = X[y == cl, 0], y = X[y == cl, 1],edgecolors=\"black\" ,alpha=0.8, c=cmap(idx),marker=markers[idx], label=cl)\n",
    "    "
   ]
  },
  {
   "cell_type": "code",
   "execution_count": null,
   "metadata": {
    "collapsed": true
   },
   "outputs": [],
   "source": []
  }
 ],
 "metadata": {
  "kernelspec": {
   "display_name": "Python 3",
   "language": "python",
   "name": "python3"
  },
  "language_info": {
   "codemirror_mode": {
    "name": "ipython",
    "version": 3
   },
   "file_extension": ".py",
   "mimetype": "text/x-python",
   "name": "python",
   "nbconvert_exporter": "python",
   "pygments_lexer": "ipython3",
   "version": "3.6.0"
  }
 },
 "nbformat": 4,
 "nbformat_minor": 2
}
