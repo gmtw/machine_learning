{
 "cells": [
  {
   "cell_type": "code",
   "execution_count": 1,
   "metadata": {
    "collapsed": true
   },
   "outputs": [],
   "source": [
    "class Perceptron(object):\n",
    "    \"\"\"Binary Perceptron\"\"\"\n",
    " \n",
    "    def __init__(self, eta=0.1, bias=0):\n",
    "        self.eta = eta\n",
    "        self.bias = bias\n",
    "        self.weights = None\n",
    "        self.errors = 0\n",
    " \n",
    "    def fit(self, x, y):\n",
    "        \"\"\"Fit perceptron\"\"\"\n",
    "        x_values = x.values if isinstance(x, pd.DataFrame) else x\n",
    "        y_values = y.values if isinstance(y, pd.DataFrame) else y\n",
    "        self.weights = np.zeros(x.shape[1], dtype='float')\n",
    "        for index_x, target in zip(x_values, y_values):\n",
    "            update = self.eta * (target - self.predict(index_x))\n",
    "            self.weights += update * index_x\n",
    "            self.errors += int(update != 0.0)\n",
    "        return self\n",
    " \n",
    "    def __net_input(self, x):\n",
    "        return np.dot(x, self.weights) + self.bias\n",
    " \n",
    "    def predict(self, x):\n",
    "        \"\"\"Predict perceptron\"\"\"\n",
    "        return np.where(self.__net_input(x) > 0, 1, 0)"
   ]
  },
  {
   "cell_type": "code",
   "execution_count": null,
   "metadata": {
    "collapsed": true
   },
   "outputs": [],
   "source": []
  }
 ],
 "metadata": {
  "kernelspec": {
   "display_name": "Python 3",
   "language": "python",
   "name": "python3"
  },
  "language_info": {
   "codemirror_mode": {
    "name": "ipython",
    "version": 3
   },
   "file_extension": ".py",
   "mimetype": "text/x-python",
   "name": "python",
   "nbconvert_exporter": "python",
   "pygments_lexer": "ipython3",
   "version": "3.6.0"
  }
 },
 "nbformat": 4,
 "nbformat_minor": 2
}
